{
 "cells": [
  {
   "cell_type": "code",
   "execution_count": 1,
   "metadata": {},
   "outputs": [],
   "source": [
    "import numpy as np\n",
    "import matplotlib.pyplot as plt\n",
    "import pandas_datareader as pdr\n",
    "import pandas as pd\n",
    "import statsmodels.api as sm\n",
    "import seaborn as sns\n",
    "import sklearn as skl\n",
    "import tensorflow as tf\n",
    "import seaborn as sns\n",
    "import sklearn as skl\n",
    "from alpha_vantage.timeseries import TimeSeries\n",
    "from alpha_vantage.techindicators import TechIndicators"
   ]
  },
  {
   "cell_type": "code",
   "execution_count": 2,
   "metadata": {},
   "outputs": [
    {
     "output_type": "execute_result",
     "data": {
      "text/plain": "(                     1. open  2. high  3. low  4. close   5. volume\n date                                                               \n 2020-06-17 19:39:03   2.5626   2.5626  2.5626    2.5626         0.0\n 2020-06-17 19:00:00   2.5600   2.5700  2.5600    2.5600  11598950.0\n 2020-06-17 17:00:00   2.5500   2.5600  2.5500    2.5600         0.0\n 2020-06-17 16:00:00   2.5400   2.5600  2.5300    2.5500  28795008.0\n 2020-06-17 15:00:00   2.5500   2.5500  2.5400    2.5400         0.0\n ...                      ...      ...     ...       ...         ...\n 2020-06-13 20:00:00   2.6000   2.6100  2.6000    2.6100         0.0\n 2020-06-13 19:00:00   2.6000   2.6100  2.6000    2.6000         0.0\n 2020-06-13 18:00:00   2.5946   2.6014  2.5946    2.6011         0.0\n 2020-06-13 17:00:00   2.5900   2.6000  2.5900    2.5900   2168275.0\n 2020-06-13 16:00:00   2.5900   2.6000  2.5900    2.5900  18056774.0\n \n [100 rows x 5 columns],\n {'1. Information': 'Intraday (60min) open, high, low, close prices and volume',\n  '2. Symbol': 'EOS-USD',\n  '3. Last Refreshed': '2020-06-17 19:39:03',\n  '4. Interval': '60min',\n  '5. Output Size': 'Compact',\n  '6. Time Zone': 'US/Eastern'})"
     },
     "metadata": {},
     "execution_count": 2
    }
   ],
   "source": [
    "stock = 'EOS-USD'\n",
    "api_key = \"QO234RMNT7YYSXZ3\"\n",
    "period = 60\n",
    "ts = TimeSeries(key=api_key, output_format=\"pandas\")\n",
    "data_ts = ts.get_intraday(stock.upper(), interval=\"60min\", outputsize=\"compact\")\n",
    "data_ts"
   ]
  },
  {
   "cell_type": "code",
   "execution_count": 3,
   "metadata": {},
   "outputs": [
    {
     "output_type": "execute_result",
     "data": {
      "text/plain": "                     1. open  2. high  3. low  4. close   5. volume\ndate                                                               \n2020-06-17 19:39:03   2.5626   2.5626  2.5626    2.5626         0.0\n2020-06-17 19:00:00   2.5600   2.5700  2.5600    2.5600  11598950.0\n2020-06-17 17:00:00   2.5500   2.5600  2.5500    2.5600         0.0\n2020-06-17 16:00:00   2.5400   2.5600  2.5300    2.5500  28795008.0\n2020-06-17 15:00:00   2.5500   2.5500  2.5400    2.5400         0.0\n...                      ...      ...     ...       ...         ...\n2020-06-13 20:00:00   2.6000   2.6100  2.6000    2.6100         0.0\n2020-06-13 19:00:00   2.6000   2.6100  2.6000    2.6000         0.0\n2020-06-13 18:00:00   2.5946   2.6014  2.5946    2.6011         0.0\n2020-06-13 17:00:00   2.5900   2.6000  2.5900    2.5900   2168275.0\n2020-06-13 16:00:00   2.5900   2.6000  2.5900    2.5900  18056774.0\n\n[100 rows x 5 columns]",
      "text/html": "<div>\n<style scoped>\n    .dataframe tbody tr th:only-of-type {\n        vertical-align: middle;\n    }\n\n    .dataframe tbody tr th {\n        vertical-align: top;\n    }\n\n    .dataframe thead th {\n        text-align: right;\n    }\n</style>\n<table border=\"1\" class=\"dataframe\">\n  <thead>\n    <tr style=\"text-align: right;\">\n      <th></th>\n      <th>1. open</th>\n      <th>2. high</th>\n      <th>3. low</th>\n      <th>4. close</th>\n      <th>5. volume</th>\n    </tr>\n    <tr>\n      <th>date</th>\n      <th></th>\n      <th></th>\n      <th></th>\n      <th></th>\n      <th></th>\n    </tr>\n  </thead>\n  <tbody>\n    <tr>\n      <th>2020-06-17 19:39:03</th>\n      <td>2.5626</td>\n      <td>2.5626</td>\n      <td>2.5626</td>\n      <td>2.5626</td>\n      <td>0.0</td>\n    </tr>\n    <tr>\n      <th>2020-06-17 19:00:00</th>\n      <td>2.5600</td>\n      <td>2.5700</td>\n      <td>2.5600</td>\n      <td>2.5600</td>\n      <td>11598950.0</td>\n    </tr>\n    <tr>\n      <th>2020-06-17 17:00:00</th>\n      <td>2.5500</td>\n      <td>2.5600</td>\n      <td>2.5500</td>\n      <td>2.5600</td>\n      <td>0.0</td>\n    </tr>\n    <tr>\n      <th>2020-06-17 16:00:00</th>\n      <td>2.5400</td>\n      <td>2.5600</td>\n      <td>2.5300</td>\n      <td>2.5500</td>\n      <td>28795008.0</td>\n    </tr>\n    <tr>\n      <th>2020-06-17 15:00:00</th>\n      <td>2.5500</td>\n      <td>2.5500</td>\n      <td>2.5400</td>\n      <td>2.5400</td>\n      <td>0.0</td>\n    </tr>\n    <tr>\n      <th>...</th>\n      <td>...</td>\n      <td>...</td>\n      <td>...</td>\n      <td>...</td>\n      <td>...</td>\n    </tr>\n    <tr>\n      <th>2020-06-13 20:00:00</th>\n      <td>2.6000</td>\n      <td>2.6100</td>\n      <td>2.6000</td>\n      <td>2.6100</td>\n      <td>0.0</td>\n    </tr>\n    <tr>\n      <th>2020-06-13 19:00:00</th>\n      <td>2.6000</td>\n      <td>2.6100</td>\n      <td>2.6000</td>\n      <td>2.6000</td>\n      <td>0.0</td>\n    </tr>\n    <tr>\n      <th>2020-06-13 18:00:00</th>\n      <td>2.5946</td>\n      <td>2.6014</td>\n      <td>2.5946</td>\n      <td>2.6011</td>\n      <td>0.0</td>\n    </tr>\n    <tr>\n      <th>2020-06-13 17:00:00</th>\n      <td>2.5900</td>\n      <td>2.6000</td>\n      <td>2.5900</td>\n      <td>2.5900</td>\n      <td>2168275.0</td>\n    </tr>\n    <tr>\n      <th>2020-06-13 16:00:00</th>\n      <td>2.5900</td>\n      <td>2.6000</td>\n      <td>2.5900</td>\n      <td>2.5900</td>\n      <td>18056774.0</td>\n    </tr>\n  </tbody>\n</table>\n<p>100 rows × 5 columns</p>\n</div>"
     },
     "metadata": {},
     "execution_count": 3
    }
   ],
   "source": [
    "data_ts[0]"
   ]
  },
  {
   "cell_type": "code",
   "execution_count": 4,
   "metadata": {},
   "outputs": [
    {
     "output_type": "execute_result",
     "data": {
      "text/plain": "[array([ 2.55, 18.  ]),\n array([ 2.55, 17.  ]),\n array([ 2.55, 16.  ]),\n array([ 2.55, 16.  ])]"
     },
     "metadata": {},
     "execution_count": 4
    }
   ],
   "source": [
    "open_p = list(data_ts[0]['1. open'].to_numpy())\n",
    "close_p = list(data_ts[0]['4. close'].to_numpy())\n",
    "high_p = list(data_ts[0]['2. high'].to_numpy())\n",
    "low_p = list(data_ts[0]['3. low'].to_numpy())\n",
    "result = []\n",
    "counts = []\n",
    "def getPivots(data):\n",
    "    all_data = []\n",
    "    for x in data:\n",
    "        all_data.append( [ x, data.count(x)] )\n",
    "        counts.append(data.count(x))\n",
    "    unrepeated = []\n",
    "    for x in all_data:\n",
    "        if x not in unrepeated:\n",
    "            unrepeated.append(x)\n",
    "    sorted_result = sorted(unrepeated, key = lambda i: i[1], reverse=True)\n",
    "    arr = np.array(sorted_result)\n",
    "\n",
    "    for x in list(arr):\n",
    "        if x[1] > np.quantile(np.array(counts), 0.8):\n",
    "            result.append(x)\n",
    "    return result\n",
    "\n",
    "r_s_open = getPivots(open_p)\n",
    "r_s_close = getPivots(close_p)\n",
    "r_s_high = getPivots(high_p)\n",
    "r_s_low = getPivots(low_p)\n",
    "r_s_open"
   ]
  },
  {
   "cell_type": "code",
   "execution_count": 5,
   "metadata": {},
   "outputs": [
    {
     "output_type": "execute_result",
     "data": {
      "text/plain": "[array([ 2.55, 18.  ]),\n array([ 2.55, 17.  ]),\n array([ 2.55, 16.  ]),\n array([ 2.55, 16.  ])]"
     },
     "metadata": {},
     "execution_count": 5
    }
   ],
   "source": [
    "r_s_close"
   ]
  },
  {
   "cell_type": "code",
   "execution_count": 6,
   "metadata": {},
   "outputs": [
    {
     "output_type": "execute_result",
     "data": {
      "text/plain": "[array([ 2.55, 18.  ]),\n array([ 2.55, 17.  ]),\n array([ 2.55, 16.  ]),\n array([ 2.55, 16.  ])]"
     },
     "metadata": {},
     "execution_count": 6
    }
   ],
   "source": [
    "r_s_low"
   ]
  },
  {
   "cell_type": "code",
   "execution_count": 7,
   "metadata": {},
   "outputs": [
    {
     "output_type": "execute_result",
     "data": {
      "text/plain": "[array([ 2.55, 18.  ]),\n array([ 2.55, 17.  ]),\n array([ 2.55, 16.  ]),\n array([ 2.55, 16.  ])]"
     },
     "metadata": {},
     "execution_count": 7
    }
   ],
   "source": [
    "r_s_high"
   ]
  },
  {
   "cell_type": "code",
   "execution_count": 8,
   "metadata": {},
   "outputs": [
    {
     "output_type": "execute_result",
     "data": {
      "text/plain": "                      5. volume\ndate                           \n2020-06-17 19:39:03         0.0\n2020-06-17 19:00:00  11598950.0\n2020-06-17 17:00:00         0.0\n2020-06-17 16:00:00  28795008.0\n2020-06-17 15:00:00         0.0\n...                         ...\n2020-06-13 20:00:00         0.0\n2020-06-13 19:00:00         0.0\n2020-06-13 18:00:00         0.0\n2020-06-13 17:00:00   2168275.0\n2020-06-13 16:00:00  18056774.0\n\n[100 rows x 1 columns]",
      "text/html": "<div>\n<style scoped>\n    .dataframe tbody tr th:only-of-type {\n        vertical-align: middle;\n    }\n\n    .dataframe tbody tr th {\n        vertical-align: top;\n    }\n\n    .dataframe thead th {\n        text-align: right;\n    }\n</style>\n<table border=\"1\" class=\"dataframe\">\n  <thead>\n    <tr style=\"text-align: right;\">\n      <th></th>\n      <th>5. volume</th>\n    </tr>\n    <tr>\n      <th>date</th>\n      <th></th>\n    </tr>\n  </thead>\n  <tbody>\n    <tr>\n      <th>2020-06-17 19:39:03</th>\n      <td>0.0</td>\n    </tr>\n    <tr>\n      <th>2020-06-17 19:00:00</th>\n      <td>11598950.0</td>\n    </tr>\n    <tr>\n      <th>2020-06-17 17:00:00</th>\n      <td>0.0</td>\n    </tr>\n    <tr>\n      <th>2020-06-17 16:00:00</th>\n      <td>28795008.0</td>\n    </tr>\n    <tr>\n      <th>2020-06-17 15:00:00</th>\n      <td>0.0</td>\n    </tr>\n    <tr>\n      <th>...</th>\n      <td>...</td>\n    </tr>\n    <tr>\n      <th>2020-06-13 20:00:00</th>\n      <td>0.0</td>\n    </tr>\n    <tr>\n      <th>2020-06-13 19:00:00</th>\n      <td>0.0</td>\n    </tr>\n    <tr>\n      <th>2020-06-13 18:00:00</th>\n      <td>0.0</td>\n    </tr>\n    <tr>\n      <th>2020-06-13 17:00:00</th>\n      <td>2168275.0</td>\n    </tr>\n    <tr>\n      <th>2020-06-13 16:00:00</th>\n      <td>18056774.0</td>\n    </tr>\n  </tbody>\n</table>\n<p>100 rows × 1 columns</p>\n</div>"
     },
     "metadata": {},
     "execution_count": 8
    }
   ],
   "source": [
    "data_ts[0].take([4], axis=1)"
   ]
  },
  {
   "cell_type": "code",
   "execution_count": 15,
   "metadata": {},
   "outputs": [
    {
     "output_type": "stream",
     "name": "stdout",
     "text": "[array([ 2.55, 18.  ]), array([ 2.55, 17.  ]), array([ 2.55, 16.  ]), array([ 2.55, 16.  ]), array([array([2.55]), 18], dtype=object)]\n"
    },
    {
     "output_type": "error",
     "ename": "AttributeError",
     "evalue": "'list' object has no attribute 'take'",
     "traceback": [
      "\u001b[1;31m---------------------------------------------------------------------------\u001b[0m",
      "\u001b[1;31mAttributeError\u001b[0m                            Traceback (most recent call last)",
      "\u001b[1;32m<ipython-input-15-751055c7bf61>\u001b[0m in \u001b[0;36m<module>\u001b[1;34m\u001b[0m\n\u001b[0;32m      3\u001b[0m         \u001b[0mdata\u001b[0m \u001b[1;33m=\u001b[0m \u001b[0mgetPivots\u001b[0m\u001b[1;33m(\u001b[0m\u001b[0mlist\u001b[0m\u001b[1;33m(\u001b[0m\u001b[0mdata\u001b[0m\u001b[1;33m.\u001b[0m\u001b[0mtake\u001b[0m\u001b[1;33m(\u001b[0m\u001b[1;33m[\u001b[0m\u001b[0mx\u001b[0m\u001b[1;33m]\u001b[0m\u001b[1;33m,\u001b[0m \u001b[0maxis\u001b[0m\u001b[1;33m=\u001b[0m\u001b[1;36m1\u001b[0m\u001b[1;33m)\u001b[0m\u001b[1;33m.\u001b[0m\u001b[0mto_numpy\u001b[0m\u001b[1;33m(\u001b[0m\u001b[1;33m)\u001b[0m\u001b[1;33m)\u001b[0m\u001b[1;33m)\u001b[0m\u001b[1;33m\u001b[0m\u001b[1;33m\u001b[0m\u001b[0m\n\u001b[0;32m      4\u001b[0m         \u001b[0mprint\u001b[0m\u001b[1;33m(\u001b[0m \u001b[0mdata\u001b[0m \u001b[1;33m)\u001b[0m\u001b[1;33m\u001b[0m\u001b[1;33m\u001b[0m\u001b[0m\n\u001b[1;32m----> 5\u001b[1;33m \u001b[0mr_s_levels\u001b[0m\u001b[1;33m(\u001b[0m\u001b[0mdata_ts\u001b[0m\u001b[1;33m[\u001b[0m\u001b[1;36m0\u001b[0m\u001b[1;33m]\u001b[0m\u001b[1;33m)\u001b[0m\u001b[1;33m\u001b[0m\u001b[1;33m\u001b[0m\u001b[0m\n\u001b[0m",
      "\u001b[1;32m<ipython-input-15-751055c7bf61>\u001b[0m in \u001b[0;36mr_s_levels\u001b[1;34m(data)\u001b[0m\n\u001b[0;32m      1\u001b[0m \u001b[1;32mdef\u001b[0m \u001b[0mr_s_levels\u001b[0m\u001b[1;33m(\u001b[0m\u001b[0mdata\u001b[0m\u001b[1;33m)\u001b[0m\u001b[1;33m:\u001b[0m\u001b[1;33m\u001b[0m\u001b[1;33m\u001b[0m\u001b[0m\n\u001b[0;32m      2\u001b[0m     \u001b[1;32mfor\u001b[0m \u001b[0mx\u001b[0m \u001b[1;32min\u001b[0m \u001b[0mrange\u001b[0m\u001b[1;33m(\u001b[0m\u001b[1;36m4\u001b[0m\u001b[1;33m)\u001b[0m\u001b[1;33m:\u001b[0m\u001b[1;33m\u001b[0m\u001b[1;33m\u001b[0m\u001b[0m\n\u001b[1;32m----> 3\u001b[1;33m         \u001b[0mdata\u001b[0m \u001b[1;33m=\u001b[0m \u001b[0mgetPivots\u001b[0m\u001b[1;33m(\u001b[0m\u001b[0mlist\u001b[0m\u001b[1;33m(\u001b[0m\u001b[0mdata\u001b[0m\u001b[1;33m.\u001b[0m\u001b[0mtake\u001b[0m\u001b[1;33m(\u001b[0m\u001b[1;33m[\u001b[0m\u001b[0mx\u001b[0m\u001b[1;33m]\u001b[0m\u001b[1;33m,\u001b[0m \u001b[0maxis\u001b[0m\u001b[1;33m=\u001b[0m\u001b[1;36m1\u001b[0m\u001b[1;33m)\u001b[0m\u001b[1;33m.\u001b[0m\u001b[0mto_numpy\u001b[0m\u001b[1;33m(\u001b[0m\u001b[1;33m)\u001b[0m\u001b[1;33m)\u001b[0m\u001b[1;33m)\u001b[0m\u001b[1;33m\u001b[0m\u001b[1;33m\u001b[0m\u001b[0m\n\u001b[0m\u001b[0;32m      4\u001b[0m         \u001b[0mprint\u001b[0m\u001b[1;33m(\u001b[0m \u001b[0mdata\u001b[0m \u001b[1;33m)\u001b[0m\u001b[1;33m\u001b[0m\u001b[1;33m\u001b[0m\u001b[0m\n\u001b[0;32m      5\u001b[0m \u001b[0mr_s_levels\u001b[0m\u001b[1;33m(\u001b[0m\u001b[0mdata_ts\u001b[0m\u001b[1;33m[\u001b[0m\u001b[1;36m0\u001b[0m\u001b[1;33m]\u001b[0m\u001b[1;33m)\u001b[0m\u001b[1;33m\u001b[0m\u001b[1;33m\u001b[0m\u001b[0m\n",
      "\u001b[1;31mAttributeError\u001b[0m: 'list' object has no attribute 'take'"
     ]
    }
   ],
   "source": [
    "def r_s_levels(data):\n",
    "    for x in range(4):\n",
    "        info = data.take([x], axis=1).to_numpy()\n",
    "        data = getPivots(list(info))\n",
    "        print( data )\n",
    "r_s_levels(data_ts[0])"
   ]
  },
  {
   "cell_type": "code",
   "execution_count": null,
   "metadata": {},
   "outputs": [],
   "source": []
  }
 ],
 "metadata": {
  "language_info": {
   "codemirror_mode": {
    "name": "ipython",
    "version": 3
   },
   "file_extension": ".py",
   "mimetype": "text/x-python",
   "name": "python",
   "nbconvert_exporter": "python",
   "pygments_lexer": "ipython3",
   "version": "3.7.7-final"
  },
  "orig_nbformat": 2,
  "kernelspec": {
   "name": "python37764bitpy3tf20conda64b8e859d92746dc9b45e746292447ed",
   "display_name": "Python 3.7.7 64-bit ('py3-TF2.0': conda)"
  }
 },
 "nbformat": 4,
 "nbformat_minor": 2
}