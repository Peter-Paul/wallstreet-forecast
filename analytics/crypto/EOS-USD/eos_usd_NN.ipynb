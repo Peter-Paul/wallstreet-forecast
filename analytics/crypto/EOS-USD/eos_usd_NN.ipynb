{
 "cells": [
  {
   "cell_type": "code",
   "execution_count": 1,
   "metadata": {},
   "outputs": [],
   "source": [
    "import tensorflow as tf\n",
    "import pandas_datareader as pdr\n",
    "import numpy as np\n",
    "import pandas as pd\n",
    "import matplotlib.pyplot as plt\n",
    "import sklearn as skl"
   ]
  },
  {
   "cell_type": "code",
   "execution_count": 2,
   "metadata": {},
   "outputs": [
    {
     "output_type": "execute_result",
     "data": {
      "text/plain": "              High          Low         Open        Close        Volume  \\\ncount  1036.000000  1036.000000  1036.000000  1036.000000  1.036000e+03   \nmean      5.217933     4.737877     4.991018     4.991321  1.423699e+09   \nstd       3.710887     3.253575     3.497867     3.493223  1.285985e+09   \nmin       0.518657     0.480196     0.492790     0.493225  4.556540e+06   \n25%       2.737026     2.544040     2.636556     2.638418  5.084520e+08   \n50%       4.154706     3.795284     4.029776     4.022571  1.069101e+09   \n75%       6.462510     5.860698     6.170222     6.149392  2.064280e+09   \nmax      22.890400    18.877399    21.639099    21.542601  1.001470e+10   \n\n         Adj Close  \ncount  1036.000000  \nmean      4.991321  \nstd       3.493223  \nmin       0.493225  \n25%       2.638418  \n50%       4.022571  \n75%       6.149392  \nmax      21.542601  ",
      "text/html": "<div>\n<style scoped>\n    .dataframe tbody tr th:only-of-type {\n        vertical-align: middle;\n    }\n\n    .dataframe tbody tr th {\n        vertical-align: top;\n    }\n\n    .dataframe thead th {\n        text-align: right;\n    }\n</style>\n<table border=\"1\" class=\"dataframe\">\n  <thead>\n    <tr style=\"text-align: right;\">\n      <th></th>\n      <th>High</th>\n      <th>Low</th>\n      <th>Open</th>\n      <th>Close</th>\n      <th>Volume</th>\n      <th>Adj Close</th>\n    </tr>\n  </thead>\n  <tbody>\n    <tr>\n      <th>count</th>\n      <td>1036.000000</td>\n      <td>1036.000000</td>\n      <td>1036.000000</td>\n      <td>1036.000000</td>\n      <td>1.036000e+03</td>\n      <td>1036.000000</td>\n    </tr>\n    <tr>\n      <th>mean</th>\n      <td>5.217933</td>\n      <td>4.737877</td>\n      <td>4.991018</td>\n      <td>4.991321</td>\n      <td>1.423699e+09</td>\n      <td>4.991321</td>\n    </tr>\n    <tr>\n      <th>std</th>\n      <td>3.710887</td>\n      <td>3.253575</td>\n      <td>3.497867</td>\n      <td>3.493223</td>\n      <td>1.285985e+09</td>\n      <td>3.493223</td>\n    </tr>\n    <tr>\n      <th>min</th>\n      <td>0.518657</td>\n      <td>0.480196</td>\n      <td>0.492790</td>\n      <td>0.493225</td>\n      <td>4.556540e+06</td>\n      <td>0.493225</td>\n    </tr>\n    <tr>\n      <th>25%</th>\n      <td>2.737026</td>\n      <td>2.544040</td>\n      <td>2.636556</td>\n      <td>2.638418</td>\n      <td>5.084520e+08</td>\n      <td>2.638418</td>\n    </tr>\n    <tr>\n      <th>50%</th>\n      <td>4.154706</td>\n      <td>3.795284</td>\n      <td>4.029776</td>\n      <td>4.022571</td>\n      <td>1.069101e+09</td>\n      <td>4.022571</td>\n    </tr>\n    <tr>\n      <th>75%</th>\n      <td>6.462510</td>\n      <td>5.860698</td>\n      <td>6.170222</td>\n      <td>6.149392</td>\n      <td>2.064280e+09</td>\n      <td>6.149392</td>\n    </tr>\n    <tr>\n      <th>max</th>\n      <td>22.890400</td>\n      <td>18.877399</td>\n      <td>21.639099</td>\n      <td>21.542601</td>\n      <td>1.001470e+10</td>\n      <td>21.542601</td>\n    </tr>\n  </tbody>\n</table>\n</div>"
     },
     "metadata": {},
     "execution_count": 2
    }
   ],
   "source": [
    "rawData = pdr.DataReader(\"EOS-USD\", \n",
    "                       start='2000-1-1', \n",
    "                       end='2020-4-30', \n",
    "                       data_source='yahoo')\n",
    "\n",
    "rawData.describe()"
   ]
  },
  {
   "cell_type": "code",
   "execution_count": 3,
   "metadata": {},
   "outputs": [
    {
     "output_type": "execute_result",
     "data": {
      "text/plain": "               High       Low      Open    Close     Volume  Adj Close  \\\nDate                                                                     \n2017-06-30  1.07176  0.989566  1.031340  1.00669   13613000    1.00669   \n2017-07-01  2.87751  0.822648  0.996521  2.71005  320452000    2.71005   \n2017-07-02  5.39597  2.632310  2.717390  4.08664  414950016    4.08664   \n2017-07-03  4.19124  2.933450  4.098010  3.37200  218559008    3.37200   \n2017-07-04  3.52350  2.730130  3.356000  3.00323  124339000    3.00323   \n\n                 O-C  Trend  \nDate                         \n2017-06-30  0.024650      1  \n2017-07-01 -1.713529      0  \n2017-07-02 -1.369250      0  \n2017-07-03  0.726010      1  \n2017-07-04  0.352770      1  ",
      "text/html": "<div>\n<style scoped>\n    .dataframe tbody tr th:only-of-type {\n        vertical-align: middle;\n    }\n\n    .dataframe tbody tr th {\n        vertical-align: top;\n    }\n\n    .dataframe thead th {\n        text-align: right;\n    }\n</style>\n<table border=\"1\" class=\"dataframe\">\n  <thead>\n    <tr style=\"text-align: right;\">\n      <th></th>\n      <th>High</th>\n      <th>Low</th>\n      <th>Open</th>\n      <th>Close</th>\n      <th>Volume</th>\n      <th>Adj Close</th>\n      <th>O-C</th>\n      <th>Trend</th>\n    </tr>\n    <tr>\n      <th>Date</th>\n      <th></th>\n      <th></th>\n      <th></th>\n      <th></th>\n      <th></th>\n      <th></th>\n      <th></th>\n      <th></th>\n    </tr>\n  </thead>\n  <tbody>\n    <tr>\n      <th>2017-06-30</th>\n      <td>1.07176</td>\n      <td>0.989566</td>\n      <td>1.031340</td>\n      <td>1.00669</td>\n      <td>13613000</td>\n      <td>1.00669</td>\n      <td>0.024650</td>\n      <td>1</td>\n    </tr>\n    <tr>\n      <th>2017-07-01</th>\n      <td>2.87751</td>\n      <td>0.822648</td>\n      <td>0.996521</td>\n      <td>2.71005</td>\n      <td>320452000</td>\n      <td>2.71005</td>\n      <td>-1.713529</td>\n      <td>0</td>\n    </tr>\n    <tr>\n      <th>2017-07-02</th>\n      <td>5.39597</td>\n      <td>2.632310</td>\n      <td>2.717390</td>\n      <td>4.08664</td>\n      <td>414950016</td>\n      <td>4.08664</td>\n      <td>-1.369250</td>\n      <td>0</td>\n    </tr>\n    <tr>\n      <th>2017-07-03</th>\n      <td>4.19124</td>\n      <td>2.933450</td>\n      <td>4.098010</td>\n      <td>3.37200</td>\n      <td>218559008</td>\n      <td>3.37200</td>\n      <td>0.726010</td>\n      <td>1</td>\n    </tr>\n    <tr>\n      <th>2017-07-04</th>\n      <td>3.52350</td>\n      <td>2.730130</td>\n      <td>3.356000</td>\n      <td>3.00323</td>\n      <td>124339000</td>\n      <td>3.00323</td>\n      <td>0.352770</td>\n      <td>1</td>\n    </tr>\n  </tbody>\n</table>\n</div>"
     },
     "metadata": {},
     "execution_count": 3
    }
   ],
   "source": [
    "rawData['O-C'] = rawData['Open'] - rawData['Close']\n",
    "\n",
    "trend = []\n",
    "\n",
    "for i in range(len(rawData)):\n",
    "    if rawData['O-C'][i] >= 0:\n",
    "        trend.append(1)\n",
    "    else:\n",
    "        trend.append(0)\n",
    "        \n",
    "rawData['Trend'] = trend\n",
    "rawData.head()"
   ]
  },
  {
   "cell_type": "code",
   "execution_count": null,
   "metadata": {},
   "outputs": [],
   "source": []
  }
 ],
 "metadata": {
  "language_info": {
   "codemirror_mode": {
    "name": "ipython",
    "version": 3
   },
   "file_extension": ".py",
   "mimetype": "text/x-python",
   "name": "python",
   "nbconvert_exporter": "python",
   "pygments_lexer": "ipython3",
   "version": "3.7.7-final"
  },
  "orig_nbformat": 2,
  "kernelspec": {
   "name": "python37764bitpy3tf20conda64b8e859d92746dc9b45e746292447ed",
   "display_name": "Python 3.7.7 64-bit ('py3-TF2.0': conda)"
  }
 },
 "nbformat": 4,
 "nbformat_minor": 2
}