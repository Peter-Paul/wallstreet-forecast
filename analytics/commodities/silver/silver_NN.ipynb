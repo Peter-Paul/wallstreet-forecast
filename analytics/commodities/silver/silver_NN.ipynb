{
 "cells": [
  {
   "cell_type": "code",
   "execution_count": 23,
   "metadata": {},
   "outputs": [],
   "source": [
    "import pandas_datareader as pdr\n",
    "import pandas as pd\n",
    "import numpy as np\n",
    "import matplotlib.pyplot as plt\n",
    "import tensorflow as tf\n",
    "from sklearn.preprocessing import StandardScaler"
   ]
  },
  {
   "cell_type": "code",
   "execution_count": 2,
   "metadata": {},
   "outputs": [
    {
     "output_type": "execute_result",
     "data": {
      "text/plain": "              High          Low         Open        Close        Volume  \\\ncount  5048.000000  5048.000000  5048.000000  5048.000000  5.048000e+03   \nmean     15.133639    14.924146    15.035435    15.029906  1.505991e+05   \nstd       8.557144     8.358698     8.464873     8.457472  2.274977e+06   \nmin       4.026000     4.026000     4.026000     4.026000  0.000000e+00   \n25%       7.183750     7.136250     7.161500     7.164750  3.000000e+00   \n50%      15.256000    15.087500    15.185000    15.191000  3.100000e+01   \n75%      18.139250    18.005250    18.090250    18.070750  1.340000e+02   \nmax      49.520000    47.540001    48.459999    48.584000  6.980156e+07   \n\n         Adj Close  \ncount  5048.000000  \nmean     15.029906  \nstd       8.457472  \nmin       4.026000  \n25%       7.164750  \n50%      15.191000  \n75%      18.070750  \nmax      48.584000  ",
      "text/html": "<div>\n<style scoped>\n    .dataframe tbody tr th:only-of-type {\n        vertical-align: middle;\n    }\n\n    .dataframe tbody tr th {\n        vertical-align: top;\n    }\n\n    .dataframe thead th {\n        text-align: right;\n    }\n</style>\n<table border=\"1\" class=\"dataframe\">\n  <thead>\n    <tr style=\"text-align: right;\">\n      <th></th>\n      <th>High</th>\n      <th>Low</th>\n      <th>Open</th>\n      <th>Close</th>\n      <th>Volume</th>\n      <th>Adj Close</th>\n    </tr>\n  </thead>\n  <tbody>\n    <tr>\n      <th>count</th>\n      <td>5048.000000</td>\n      <td>5048.000000</td>\n      <td>5048.000000</td>\n      <td>5048.000000</td>\n      <td>5.048000e+03</td>\n      <td>5048.000000</td>\n    </tr>\n    <tr>\n      <th>mean</th>\n      <td>15.133639</td>\n      <td>14.924146</td>\n      <td>15.035435</td>\n      <td>15.029906</td>\n      <td>1.505991e+05</td>\n      <td>15.029906</td>\n    </tr>\n    <tr>\n      <th>std</th>\n      <td>8.557144</td>\n      <td>8.358698</td>\n      <td>8.464873</td>\n      <td>8.457472</td>\n      <td>2.274977e+06</td>\n      <td>8.457472</td>\n    </tr>\n    <tr>\n      <th>min</th>\n      <td>4.026000</td>\n      <td>4.026000</td>\n      <td>4.026000</td>\n      <td>4.026000</td>\n      <td>0.000000e+00</td>\n      <td>4.026000</td>\n    </tr>\n    <tr>\n      <th>25%</th>\n      <td>7.183750</td>\n      <td>7.136250</td>\n      <td>7.161500</td>\n      <td>7.164750</td>\n      <td>3.000000e+00</td>\n      <td>7.164750</td>\n    </tr>\n    <tr>\n      <th>50%</th>\n      <td>15.256000</td>\n      <td>15.087500</td>\n      <td>15.185000</td>\n      <td>15.191000</td>\n      <td>3.100000e+01</td>\n      <td>15.191000</td>\n    </tr>\n    <tr>\n      <th>75%</th>\n      <td>18.139250</td>\n      <td>18.005250</td>\n      <td>18.090250</td>\n      <td>18.070750</td>\n      <td>1.340000e+02</td>\n      <td>18.070750</td>\n    </tr>\n    <tr>\n      <th>max</th>\n      <td>49.520000</td>\n      <td>47.540001</td>\n      <td>48.459999</td>\n      <td>48.584000</td>\n      <td>6.980156e+07</td>\n      <td>48.584000</td>\n    </tr>\n  </tbody>\n</table>\n</div>"
     },
     "metadata": {},
     "execution_count": 2
    }
   ],
   "source": [
    "rawData = pdr.DataReader(\"SI=F\", \n",
    "                       start='2000-1-1', \n",
    "                       end='2020-4-30', \n",
    "                       data_source='yahoo')\n",
    "\n",
    "rawData.describe()"
   ]
  },
  {
   "cell_type": "code",
   "execution_count": 3,
   "metadata": {},
   "outputs": [
    {
     "output_type": "execute_result",
     "data": {
      "text/plain": "             High    Low   Open  Close   Volume  Adj Close    O-C  Trend\nDate                                                                    \n2000-02-28  5.095  5.020  5.045  5.048  14203.0      5.048 -0.003      0\n2000-02-29  5.090  5.035  5.065  5.048   2830.0      5.048  0.017      1\n2000-03-01  5.130  5.050  5.070  5.073    511.0      5.073 -0.003      0\n2000-03-02  5.105  5.000  5.105  5.008    645.0      5.008  0.097      1\n2000-03-03  5.110  5.000  5.020  5.099    307.0      5.099 -0.079      0",
      "text/html": "<div>\n<style scoped>\n    .dataframe tbody tr th:only-of-type {\n        vertical-align: middle;\n    }\n\n    .dataframe tbody tr th {\n        vertical-align: top;\n    }\n\n    .dataframe thead th {\n        text-align: right;\n    }\n</style>\n<table border=\"1\" class=\"dataframe\">\n  <thead>\n    <tr style=\"text-align: right;\">\n      <th></th>\n      <th>High</th>\n      <th>Low</th>\n      <th>Open</th>\n      <th>Close</th>\n      <th>Volume</th>\n      <th>Adj Close</th>\n      <th>O-C</th>\n      <th>Trend</th>\n    </tr>\n    <tr>\n      <th>Date</th>\n      <th></th>\n      <th></th>\n      <th></th>\n      <th></th>\n      <th></th>\n      <th></th>\n      <th></th>\n      <th></th>\n    </tr>\n  </thead>\n  <tbody>\n    <tr>\n      <th>2000-02-28</th>\n      <td>5.095</td>\n      <td>5.020</td>\n      <td>5.045</td>\n      <td>5.048</td>\n      <td>14203.0</td>\n      <td>5.048</td>\n      <td>-0.003</td>\n      <td>0</td>\n    </tr>\n    <tr>\n      <th>2000-02-29</th>\n      <td>5.090</td>\n      <td>5.035</td>\n      <td>5.065</td>\n      <td>5.048</td>\n      <td>2830.0</td>\n      <td>5.048</td>\n      <td>0.017</td>\n      <td>1</td>\n    </tr>\n    <tr>\n      <th>2000-03-01</th>\n      <td>5.130</td>\n      <td>5.050</td>\n      <td>5.070</td>\n      <td>5.073</td>\n      <td>511.0</td>\n      <td>5.073</td>\n      <td>-0.003</td>\n      <td>0</td>\n    </tr>\n    <tr>\n      <th>2000-03-02</th>\n      <td>5.105</td>\n      <td>5.000</td>\n      <td>5.105</td>\n      <td>5.008</td>\n      <td>645.0</td>\n      <td>5.008</td>\n      <td>0.097</td>\n      <td>1</td>\n    </tr>\n    <tr>\n      <th>2000-03-03</th>\n      <td>5.110</td>\n      <td>5.000</td>\n      <td>5.020</td>\n      <td>5.099</td>\n      <td>307.0</td>\n      <td>5.099</td>\n      <td>-0.079</td>\n      <td>0</td>\n    </tr>\n  </tbody>\n</table>\n</div>"
     },
     "metadata": {},
     "execution_count": 3
    }
   ],
   "source": [
    "rawData['O-C'] = rawData['Open'] - rawData['Close']\n",
    "\n",
    "trend = []\n",
    "for i in range(len(rawData)):\n",
    "    if rawData['O-C'][i] >= 0:\n",
    "        trend.append(1)\n",
    "    else:\n",
    "        trend.append(0)\n",
    "rawData['Trend'] = trend\n",
    "rawData.head()"
   ]
  },
  {
   "cell_type": "code",
   "execution_count": 10,
   "metadata": {},
   "outputs": [
    {
     "output_type": "execute_result",
     "data": {
      "text/plain": "array([[-1.17311205e+00, -1.18489275e+00, -1.18021151e+00,\n        -1.18024045e+00, -5.99626200e-02],\n       [-1.17369632e+00, -1.18309823e+00, -1.17784880e+00,\n        -1.18024045e+00, -6.49617926e-02],\n       [-1.16902186e+00, -1.18130365e+00, -1.17725811e+00,\n        -1.17728447e+00, -6.59811438e-02],\n       ...,\n       [ 3.64047027e-02,  2.16347859e-02,  4.42608575e-02,\n         2.66215143e-02,  6.31480089e+00],\n       [ 2.29656542e-02,  1.89487455e-03,  7.04828735e-03,\n         2.01183522e-02,  5.96140470e+00],\n       [ 5.51025286e-02,  3.71874606e-02,  3.48100425e-02,\n         3.52529305e-02, -4.84288744e-02]])"
     },
     "metadata": {},
     "execution_count": 10
    }
   ],
   "source": [
    "inputs = rawData[['High', 'Low', 'Open', 'Close', 'Volume']][ 0 : len(rawData) - 1 ].to_numpy()\n",
    "targets = rawData[['Trend']][ 1 : len(rawData) ].to_numpy()\n",
    "\n",
    "scaler = StandardScaler()\n",
    "scaler.fit(inputs)\n",
    "scaled_inputs = scaler.transform(inputs)\n",
    "scaled_inputs"
   ]
  },
  {
   "cell_type": "code",
   "execution_count": 12,
   "metadata": {},
   "outputs": [
    {
     "output_type": "stream",
     "name": "stdout",
     "text": "5047 5047 []\n"
    }
   ],
   "source": [
    "sum_uptrend = int(np.sum(targets))\n",
    "\n",
    "sum_downtrend = 0\n",
    "\n",
    "unnecessary_indices = []\n",
    "\n",
    "for i in range(len(targets)):\n",
    "    if targets[i] == 0:\n",
    "        sum_downtrend += 1\n",
    "        if sum_downtrend > sum_uptrend:\n",
    "            unnecessary_indices.append(i)\n",
    "\n",
    "extracted_inputs = np.delete( scaled_inputs, unnecessary_indices, axis = 0 )\n",
    "extracted_targets = np.delete( targets, unnecessary_indices, axis = 0 )\n",
    "print(len(extracted_inputs), len(extracted_targets), unnecessary_indices)"
   ]
  },
  {
   "cell_type": "code",
   "execution_count": 17,
   "metadata": {},
   "outputs": [
    {
     "output_type": "execute_result",
     "data": {
      "text/plain": "array([[-0.16284419, -0.19670062, -0.1530251 , -0.19353891, -0.06572971],\n       [-0.88072448, -0.87659114, -0.87873022, -0.87885009, -0.06618818],\n       [-1.23960623, -1.24399285, -1.24152374, -1.24196101, -0.06620444],\n       ...,\n       [-1.22394681, -1.23513982, -1.22687495, -1.22895474, -0.06292924],\n       [-1.19882157, -1.2043934 , -1.20029452, -1.20282403, -0.06620356],\n       [ 0.28882558,  0.28064652,  0.27521536,  0.26865603, -0.0660207 ]])"
     },
     "metadata": {},
     "execution_count": 17
    }
   ],
   "source": [
    "shuffle_value = np.arange(len(extracted_inputs))\n",
    "np.random.shuffle(shuffle_value)\n",
    "\n",
    "shuffled_inputs = extracted_inputs[shuffle_value]\n",
    "shuffled_targets = extracted_targets[shuffle_value]\n",
    "shuffled_inputs"
   ]
  },
  {
   "cell_type": "code",
   "execution_count": 18,
   "metadata": {},
   "outputs": [
    {
     "output_type": "stream",
     "name": "stdout",
     "text": "2703 4037 0.6695566014367105\n350 504 0.6944444444444444\n336 506 0.6640316205533597\n"
    }
   ],
   "source": [
    "total_samples = len(shuffled_inputs)\n",
    "\n",
    "train_samples = int( 0.8 * total_samples )\n",
    "validation_samples = int( 0.1 * total_samples )\n",
    "test_samples = total_samples - ( train_samples + validation_samples )\n",
    "\n",
    "train_inputs = shuffled_inputs[ :  train_samples]\n",
    "train_targets = shuffled_targets[ : train_samples]\n",
    "\n",
    "validation_inputs = shuffled_inputs[ train_samples : train_samples + validation_samples ]\n",
    "validation_targets = shuffled_targets[ train_samples : train_samples + validation_samples ]\n",
    "\n",
    "test_inputs = shuffled_inputs[ train_samples + validation_samples : ]\n",
    "test_targets = shuffled_targets[ train_samples + validation_samples : ]\n",
    "\n",
    "print( np.sum(train_targets), train_samples, np.sum(train_targets) /  train_samples )\n",
    "print( np.sum(validation_targets), validation_samples, np.sum(validation_targets) /  validation_samples )\n",
    "print( np.sum(test_targets), test_samples, np.sum(test_targets) /  test_samples )"
   ]
  },
  {
   "cell_type": "code",
   "execution_count": 19,
   "metadata": {},
   "outputs": [],
   "source": [
    "np.savez('silver_train', inputs=train_inputs, targets=train_targets)\n",
    "np.savez('silver_validation', inputs=validation_inputs, targets=validation_targets)\n",
    "np.savez('silver_test', inputs=test_inputs, targets=test_targets)"
   ]
  },
  {
   "cell_type": "code",
   "execution_count": 20,
   "metadata": {},
   "outputs": [],
   "source": [
    "npz_trn = np.load('silver_train.npz')\n",
    "trn_inputs, trn_targets = npz_trn['inputs'].astype(np.float), npz_trn['targets'].astype(np.int)\n",
    "\n",
    "npz_val = np.load('silver_validation.npz')\n",
    "val_inputs, val_targets = npz_val['inputs'].astype(np.float), npz_val['targets'].astype(np.int)\n",
    "\n",
    "npz_tst = np.load('silver_test.npz')\n",
    "tst_inputs, tst_targets = npz_tst['inputs'].astype(np.float), npz_tst['targets'].astype(np.int)"
   ]
  },
  {
   "cell_type": "code",
   "execution_count": 21,
   "metadata": {},
   "outputs": [
    {
     "output_type": "execute_result",
     "data": {
      "text/plain": "array([[-0.16284419, -0.19670062, -0.1530251 , -0.19353891, -0.06572971],\n       [-0.88072448, -0.87659114, -0.87873022, -0.87885009, -0.06618818],\n       [-1.23960623, -1.24399285, -1.24152374, -1.24196101, -0.06620444],\n       ...,\n       [ 0.53306618,  0.56262827,  0.54243753,  0.54356099, -0.06619389],\n       [ 0.77905963,  0.80465146,  0.78142511,  0.7892608 , -0.06619126],\n       [ 0.24231483,  0.19151771,  0.17598169,  0.25742344, -0.06619345]])"
     },
     "metadata": {},
     "execution_count": 21
    }
   ],
   "source": [
    "trn_inputs"
   ]
  },
  {
   "cell_type": "code",
   "execution_count": 31,
   "metadata": {},
   "outputs": [
    {
     "output_type": "stream",
     "name": "stdout",
     "text": "Train on 4037 samples, validate on 504 samples\nEpoch 1/100\n4037/4037 - 1s - loss: 0.6487 - accuracy: 0.6544 - val_loss: 0.6184 - val_accuracy: 0.6944\nEpoch 2/100\n4037/4037 - 0s - loss: 0.6322 - accuracy: 0.6678 - val_loss: 0.6036 - val_accuracy: 0.6944\nEpoch 3/100\n4037/4037 - 0s - loss: 0.6269 - accuracy: 0.6661 - val_loss: 0.5994 - val_accuracy: 0.6984\nEpoch 4/100\n4037/4037 - 0s - loss: 0.6251 - accuracy: 0.6681 - val_loss: 0.5999 - val_accuracy: 0.6944\nEpoch 5/100\n4037/4037 - 0s - loss: 0.6251 - accuracy: 0.6693 - val_loss: 0.5992 - val_accuracy: 0.7004\nEpoch 6/100\n4037/4037 - 0s - loss: 0.6262 - accuracy: 0.6686 - val_loss: 0.6012 - val_accuracy: 0.6925\nEpoch 7/100\n4037/4037 - 0s - loss: 0.6252 - accuracy: 0.6710 - val_loss: 0.5990 - val_accuracy: 0.7044\nEpoch 8/100\n4037/4037 - 0s - loss: 0.6268 - accuracy: 0.6646 - val_loss: 0.6010 - val_accuracy: 0.6984\nEpoch 9/100\n4037/4037 - 0s - loss: 0.6270 - accuracy: 0.6661 - val_loss: 0.6022 - val_accuracy: 0.6964\n"
    },
    {
     "output_type": "execute_result",
     "data": {
      "text/plain": "<tensorflow.python.keras.callbacks.History at 0x21be9a93408>"
     },
     "metadata": {},
     "execution_count": 31
    }
   ],
   "source": [
    "input_size = 5\n",
    "output_size = 2\n",
    "\n",
    "hidden_layer_size = 100\n",
    "\n",
    "model = tf.keras.Sequential([\n",
    "    tf.keras.layers.Dense(hidden_layer_size, activation='relu'), \n",
    "    tf.keras.layers.Dense(hidden_layer_size, activation='relu'), \n",
    "    tf.keras.layers.Dense(output_size, activation='softmax') \n",
    "])\n",
    "\n",
    "model.compile(optimizer='adam', loss='sparse_categorical_crossentropy', metrics=['accuracy'])\n",
    "\n",
    "batch_size = 100\n",
    "\n",
    "epochs = 100\n",
    "\n",
    "early_stopping = tf.keras.callbacks.EarlyStopping(patience=2)\n",
    "\n",
    "\n",
    "model.fit(trn_inputs,\n",
    "          trn_targets,\n",
    "          batch_size=batch_size, \n",
    "          epochs=epochs,\n",
    "          callbacks = [early_stopping],\n",
    "          validation_data=(val_inputs, val_targets),\n",
    "          verbose = 2 \n",
    "          )  "
   ]
  },
  {
   "cell_type": "code",
   "execution_count": 32,
   "metadata": {},
   "outputs": [
    {
     "output_type": "stream",
     "name": "stdout",
     "text": "506/506 [==============================] - 0s 55us/sample - loss: 0.6328 - accuracy: 0.6581\n"
    }
   ],
   "source": [
    "test_loss, test_accuracy = model.evaluate(tst_inputs, tst_targets)"
   ]
  },
  {
   "cell_type": "code",
   "execution_count": null,
   "metadata": {},
   "outputs": [],
   "source": []
  }
 ],
 "metadata": {
  "language_info": {
   "codemirror_mode": {
    "name": "ipython",
    "version": 3
   },
   "file_extension": ".py",
   "mimetype": "text/x-python",
   "name": "python",
   "nbconvert_exporter": "python",
   "pygments_lexer": "ipython3",
   "version": "3.7.7-final"
  },
  "orig_nbformat": 2,
  "kernelspec": {
   "name": "python37764bitpy3tf20conda64b8e859d92746dc9b45e746292447ed",
   "display_name": "Python 3.7.7 64-bit ('py3-TF2.0': conda)"
  }
 },
 "nbformat": 4,
 "nbformat_minor": 2
}