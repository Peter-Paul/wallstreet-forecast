{
 "cells": [
  {
   "cell_type": "code",
   "execution_count": 1,
   "metadata": {},
   "outputs": [],
   "source": [
    "import pandas_datareader as pdr\n",
    "import pandas as pd\n",
    "import numpy as np\n",
    "import matplotlib.pyplot as plt\n",
    "import tensorflow as tf\n",
    "from sklearn.preprocessing import StandardScaler"
   ]
  },
  {
   "cell_type": "code",
   "execution_count": 2,
   "metadata": {},
   "outputs": [
    {
     "output_type": "execute_result",
     "data": {
      "text/plain": "              High          Low         Open        Close        Volume  \\\ncount  5056.000000  5056.000000  5056.000000  5056.000000  5.056000e+03   \nmean     15.134165    14.924315    15.035751    15.030289  1.669874e+05   \nstd       8.550389     8.352095     8.458185     8.450795  2.351958e+06   \nmin       4.026000     4.026000     4.026000     4.026000  0.000000e+00   \n25%       7.186500     7.140000     7.169750     7.170500  3.000000e+00   \n50%      15.256000    15.077500    15.182500    15.185500  3.100000e+01   \n75%      18.132250    18.001000    18.087750    18.068001  1.350000e+02   \nmax      49.520000    47.540001    48.459999    48.584000  6.980156e+07   \n\n         Adj Close  \ncount  5056.000000  \nmean     15.030289  \nstd       8.450795  \nmin       4.026000  \n25%       7.170500  \n50%      15.185500  \n75%      18.068001  \nmax      48.584000  ",
      "text/html": "<div>\n<style scoped>\n    .dataframe tbody tr th:only-of-type {\n        vertical-align: middle;\n    }\n\n    .dataframe tbody tr th {\n        vertical-align: top;\n    }\n\n    .dataframe thead th {\n        text-align: right;\n    }\n</style>\n<table border=\"1\" class=\"dataframe\">\n  <thead>\n    <tr style=\"text-align: right;\">\n      <th></th>\n      <th>High</th>\n      <th>Low</th>\n      <th>Open</th>\n      <th>Close</th>\n      <th>Volume</th>\n      <th>Adj Close</th>\n    </tr>\n  </thead>\n  <tbody>\n    <tr>\n      <th>count</th>\n      <td>5056.000000</td>\n      <td>5056.000000</td>\n      <td>5056.000000</td>\n      <td>5056.000000</td>\n      <td>5.056000e+03</td>\n      <td>5056.000000</td>\n    </tr>\n    <tr>\n      <th>mean</th>\n      <td>15.134165</td>\n      <td>14.924315</td>\n      <td>15.035751</td>\n      <td>15.030289</td>\n      <td>1.669874e+05</td>\n      <td>15.030289</td>\n    </tr>\n    <tr>\n      <th>std</th>\n      <td>8.550389</td>\n      <td>8.352095</td>\n      <td>8.458185</td>\n      <td>8.450795</td>\n      <td>2.351958e+06</td>\n      <td>8.450795</td>\n    </tr>\n    <tr>\n      <th>min</th>\n      <td>4.026000</td>\n      <td>4.026000</td>\n      <td>4.026000</td>\n      <td>4.026000</td>\n      <td>0.000000e+00</td>\n      <td>4.026000</td>\n    </tr>\n    <tr>\n      <th>25%</th>\n      <td>7.186500</td>\n      <td>7.140000</td>\n      <td>7.169750</td>\n      <td>7.170500</td>\n      <td>3.000000e+00</td>\n      <td>7.170500</td>\n    </tr>\n    <tr>\n      <th>50%</th>\n      <td>15.256000</td>\n      <td>15.077500</td>\n      <td>15.182500</td>\n      <td>15.185500</td>\n      <td>3.100000e+01</td>\n      <td>15.185500</td>\n    </tr>\n    <tr>\n      <th>75%</th>\n      <td>18.132250</td>\n      <td>18.001000</td>\n      <td>18.087750</td>\n      <td>18.068001</td>\n      <td>1.350000e+02</td>\n      <td>18.068001</td>\n    </tr>\n    <tr>\n      <th>max</th>\n      <td>49.520000</td>\n      <td>47.540001</td>\n      <td>48.459999</td>\n      <td>48.584000</td>\n      <td>6.980156e+07</td>\n      <td>48.584000</td>\n    </tr>\n  </tbody>\n</table>\n</div>"
     },
     "metadata": {},
     "execution_count": 2
    }
   ],
   "source": [
    "rawData = pdr.DataReader(\"SI=F\", \n",
    "                       start='2000-1-1', \n",
    "                       end='2020-5-10', \n",
    "                       data_source='yahoo')\n",
    "\n",
    "rawData.describe()"
   ]
  },
  {
   "cell_type": "code",
   "execution_count": 3,
   "metadata": {},
   "outputs": [
    {
     "output_type": "execute_result",
     "data": {
      "text/plain": "             High    Low   Open  Close   Volume  Adj Close    O-C  Trend  \\\nDate                                                                       \n2000-02-28  5.095  5.020  5.045  5.048  14203.0      5.048 -0.003      0   \n2000-02-29  5.090  5.035  5.065  5.048   2830.0      5.048  0.017      1   \n2000-03-01  5.130  5.050  5.070  5.073    511.0      5.073 -0.003      0   \n2000-03-02  5.105  5.000  5.105  5.008    645.0      5.008  0.097      1   \n2000-03-03  5.110  5.000  5.020  5.099    307.0      5.099 -0.079      0   \n\n            0.5(O+C)  0.5(H+L)  AvOC-HL  \nDate                                     \n2000-02-28    5.0465    5.0575  7.57525  \n2000-02-29    5.0565    5.0625  7.58775  \n2000-03-01    5.0715    5.0900  7.61650  \n2000-03-02    5.0565    5.0525  7.58275  \n2000-03-03    5.0595    5.0550  7.58700  ",
      "text/html": "<div>\n<style scoped>\n    .dataframe tbody tr th:only-of-type {\n        vertical-align: middle;\n    }\n\n    .dataframe tbody tr th {\n        vertical-align: top;\n    }\n\n    .dataframe thead th {\n        text-align: right;\n    }\n</style>\n<table border=\"1\" class=\"dataframe\">\n  <thead>\n    <tr style=\"text-align: right;\">\n      <th></th>\n      <th>High</th>\n      <th>Low</th>\n      <th>Open</th>\n      <th>Close</th>\n      <th>Volume</th>\n      <th>Adj Close</th>\n      <th>O-C</th>\n      <th>Trend</th>\n      <th>0.5(O+C)</th>\n      <th>0.5(H+L)</th>\n      <th>AvOC-HL</th>\n    </tr>\n    <tr>\n      <th>Date</th>\n      <th></th>\n      <th></th>\n      <th></th>\n      <th></th>\n      <th></th>\n      <th></th>\n      <th></th>\n      <th></th>\n      <th></th>\n      <th></th>\n      <th></th>\n    </tr>\n  </thead>\n  <tbody>\n    <tr>\n      <th>2000-02-28</th>\n      <td>5.095</td>\n      <td>5.020</td>\n      <td>5.045</td>\n      <td>5.048</td>\n      <td>14203.0</td>\n      <td>5.048</td>\n      <td>-0.003</td>\n      <td>0</td>\n      <td>5.0465</td>\n      <td>5.0575</td>\n      <td>7.57525</td>\n    </tr>\n    <tr>\n      <th>2000-02-29</th>\n      <td>5.090</td>\n      <td>5.035</td>\n      <td>5.065</td>\n      <td>5.048</td>\n      <td>2830.0</td>\n      <td>5.048</td>\n      <td>0.017</td>\n      <td>1</td>\n      <td>5.0565</td>\n      <td>5.0625</td>\n      <td>7.58775</td>\n    </tr>\n    <tr>\n      <th>2000-03-01</th>\n      <td>5.130</td>\n      <td>5.050</td>\n      <td>5.070</td>\n      <td>5.073</td>\n      <td>511.0</td>\n      <td>5.073</td>\n      <td>-0.003</td>\n      <td>0</td>\n      <td>5.0715</td>\n      <td>5.0900</td>\n      <td>7.61650</td>\n    </tr>\n    <tr>\n      <th>2000-03-02</th>\n      <td>5.105</td>\n      <td>5.000</td>\n      <td>5.105</td>\n      <td>5.008</td>\n      <td>645.0</td>\n      <td>5.008</td>\n      <td>0.097</td>\n      <td>1</td>\n      <td>5.0565</td>\n      <td>5.0525</td>\n      <td>7.58275</td>\n    </tr>\n    <tr>\n      <th>2000-03-03</th>\n      <td>5.110</td>\n      <td>5.000</td>\n      <td>5.020</td>\n      <td>5.099</td>\n      <td>307.0</td>\n      <td>5.099</td>\n      <td>-0.079</td>\n      <td>0</td>\n      <td>5.0595</td>\n      <td>5.0550</td>\n      <td>7.58700</td>\n    </tr>\n  </tbody>\n</table>\n</div>"
     },
     "metadata": {},
     "execution_count": 3
    }
   ],
   "source": [
    "rawData['O-C'] = rawData['Open'] - rawData['Close']\n",
    "\n",
    "trend = []\n",
    "for i in range(len(rawData)):\n",
    "    if rawData['O-C'][i] >= 0:\n",
    "        trend.append(1)\n",
    "    else:\n",
    "        trend.append(0)\n",
    "rawData['Trend'] = trend\n",
    "\n",
    "rawData['0.5(O+C)'] = ( rawData['Open'] + rawData['Close'] ) * 0.5\n",
    "rawData['0.5(H+L)'] = ( rawData['High'] + rawData['Low'] ) * 0.5\n",
    "rawData['AvOC-HL'] = rawData['0.5(O+C)'] + rawData['0.5(H+L)'] * 0.5\n",
    "rawData.head()"
   ]
  },
  {
   "cell_type": "code",
   "execution_count": 46,
   "metadata": {},
   "outputs": [
    {
     "output_type": "execute_result",
     "data": {
      "text/plain": "array([5.10500011e+00, 5.02700005e+00, 5.07000008e+00, 5.05619993e+00,\n       8.86600000e+02, 5.05619993e+00, 1.38001442e-02, 6.00000000e-01,\n       5.06310000e+00, 5.06600008e+00, 7.59610004e+00])"
     },
     "metadata": {},
     "execution_count": 46
    }
   ],
   "source": [
    "rawData[1:6].mean().to_numpy()"
   ]
  },
  {
   "cell_type": "code",
   "execution_count": 47,
   "metadata": {},
   "outputs": [
    {
     "output_type": "execute_result",
     "data": {
      "text/plain": "array([5.10500011e+00, 5.02700005e+00, 5.07000008e+00, 5.05619993e+00,\n       8.86600000e+02, 5.05619993e+00, 1.38001442e-02, 6.00000000e-01,\n       5.06310000e+00, 5.06600008e+00, 7.59610004e+00])"
     },
     "metadata": {},
     "execution_count": 47
    }
   ],
   "source": [
    "top5 = []\n",
    "p = 0\n",
    "h = 0\n",
    "for i in range(len(rawData)):\n",
    "    p += 1\n",
    "    for x in range(5):\n",
    "        h = x+p\n",
    "    top5.append(rawData[i:h].mean().to_numpy())\n",
    "\n",
    "top5[1]"
   ]
  },
  {
   "cell_type": "code",
   "execution_count": 4,
   "metadata": {},
   "outputs": [
    {
     "output_type": "execute_result",
     "data": {
      "text/plain": "array([[-1.17410196, -1.18582945, -1.18117726, -1.18120675],\n       [-1.17468668, -1.18403351, -1.17881269, -1.18120675],\n       [-1.17000853, -1.18223751, -1.17822153, -1.17824843],\n       ...,\n       [ 0.02993774, -0.01007535,  0.02416488, -0.0029733 ],\n       [ 0.06560859,  0.01207474,  0.0052483 ,  0.06388433],\n       [ 0.09894041,  0.06954547,  0.08327926,  0.08814242]])"
     },
     "metadata": {},
     "execution_count": 4
    }
   ],
   "source": [
    "inputs = rawData[['High', 'Low', 'Open', 'Close']][ 0 : len(rawData) - 1 ].to_numpy()\n",
    "inputs2 = rawData[['High', 'Low','Volume']][ 0 : len(rawData) - 1 ].to_numpy()\n",
    "inputs3 = rawData['Volume'][ 0 : len(rawData) - 1 ].to_numpy()\n",
    "\n",
    "targets = rawData[['Trend']][ 1 : len(rawData) ].to_numpy()\n",
    "\n",
    "scaler = StandardScaler()\n",
    "scaler.fit(inputs)\n",
    "# scaler.fit(inputs2)\n",
    "# scaler.fit(inputs3.reshape(-1,1))\n",
    "\n",
    "scaled_inputs = scaler.transform(inputs)\n",
    "# scaled_inputs2 = scaler.transform(inputs2)\n",
    "# scaled_inputs3 = scaler.transform(inputs3.reshape(-1,1))\n",
    "\n",
    "scaled_inputs2"
   ]
  },
  {
   "cell_type": "code",
   "execution_count": 5,
   "metadata": {},
   "outputs": [
    {
     "output_type": "stream",
     "name": "stdout",
     "text": "5055 5055 []\n"
    }
   ],
   "source": [
    "sum_uptrend = int(np.sum(targets))\n",
    "\n",
    "sum_downtrend = 0\n",
    "\n",
    "unnecessary_indices = []\n",
    "\n",
    "for i in range(len(targets)):\n",
    "    if targets[i] == 0:\n",
    "        sum_downtrend += 1\n",
    "        if sum_downtrend > sum_uptrend:\n",
    "            unnecessary_indices.append(i)\n",
    "\n",
    "extracted_inputs = np.delete( scaled_inputs, unnecessary_indices, axis = 0 )\n",
    "extracted_targets = np.delete( targets, unnecessary_indices, axis = 0 )\n",
    "print(len(extracted_inputs), len(extracted_targets), unnecessary_indices)"
   ]
  },
  {
   "cell_type": "code",
   "execution_count": 6,
   "metadata": {},
   "outputs": [
    {
     "output_type": "execute_result",
     "data": {
      "text/plain": "array([[-0.12502616, -0.11579748, -0.12243875, -0.12698545],\n       [-1.25433226, -1.25898483, -1.25637077, -1.256821  ],\n       [-1.22497686, -1.23910957, -1.23615365, -1.2274746 ],\n       ...,\n       [-1.18684989, -1.18990028, -1.18815276, -1.18854332],\n       [ 0.22583542,  0.21202478,  0.19618771,  0.22327778],\n       [-1.04018983, -1.05652046, -1.0422585 , -1.04749138]])"
     },
     "metadata": {},
     "execution_count": 6
    }
   ],
   "source": [
    "shuffle_value = np.arange(len(extracted_inputs))\n",
    "np.random.shuffle(shuffle_value)\n",
    "\n",
    "shuffled_inputs = extracted_inputs[shuffle_value]\n",
    "shuffled_targets = extracted_targets[shuffle_value]\n",
    "shuffled_inputs"
   ]
  },
  {
   "cell_type": "code",
   "execution_count": 7,
   "metadata": {},
   "outputs": [
    {
     "output_type": "stream",
     "name": "stdout",
     "text": "2699 4044 0.667408506429278\n338 505 0.6693069306930693\n356 506 0.7035573122529645\n"
    }
   ],
   "source": [
    "total_samples = len(shuffled_inputs)\n",
    "\n",
    "train_samples = int( 0.8 * total_samples )\n",
    "validation_samples = int( 0.1 * total_samples )\n",
    "test_samples = total_samples - ( train_samples + validation_samples )\n",
    "\n",
    "train_inputs = shuffled_inputs[ :  train_samples]\n",
    "train_targets = shuffled_targets[ : train_samples]\n",
    "\n",
    "validation_inputs = shuffled_inputs[ train_samples : train_samples + validation_samples ]\n",
    "validation_targets = shuffled_targets[ train_samples : train_samples + validation_samples ]\n",
    "\n",
    "test_inputs = shuffled_inputs[ train_samples + validation_samples : ]\n",
    "test_targets = shuffled_targets[ train_samples + validation_samples : ]\n",
    "\n",
    "print( np.sum(train_targets), train_samples, np.sum(train_targets) /  train_samples )\n",
    "print( np.sum(validation_targets), validation_samples, np.sum(validation_targets) /  validation_samples )\n",
    "print( np.sum(test_targets), test_samples, np.sum(test_targets) /  test_samples )"
   ]
  },
  {
   "cell_type": "code",
   "execution_count": 8,
   "metadata": {},
   "outputs": [],
   "source": [
    "np.savez('silver_train', inputs=train_inputs, targets=train_targets)\n",
    "np.savez('silver_validation', inputs=validation_inputs, targets=validation_targets)\n",
    "np.savez('silver_test', inputs=test_inputs, targets=test_targets)"
   ]
  },
  {
   "cell_type": "code",
   "execution_count": 9,
   "metadata": {},
   "outputs": [],
   "source": [
    "npz_trn = np.load('silver_train.npz')\n",
    "trn_inputs, trn_targets = npz_trn['inputs'].astype(np.float), npz_trn['targets'].astype(np.int)\n",
    "\n",
    "npz_val = np.load('silver_validation.npz')\n",
    "val_inputs, val_targets = npz_val['inputs'].astype(np.float), npz_val['targets'].astype(np.int)\n",
    "\n",
    "npz_tst = np.load('silver_test.npz')\n",
    "tst_inputs, tst_targets = npz_tst['inputs'].astype(np.float), npz_tst['targets'].astype(np.int)"
   ]
  },
  {
   "cell_type": "code",
   "execution_count": 10,
   "metadata": {},
   "outputs": [
    {
     "output_type": "execute_result",
     "data": {
      "text/plain": "array([[-0.12502616, -0.11579748, -0.12243875, -0.12698545],\n       [-1.25433226, -1.25898483, -1.25637077, -1.256821  ],\n       [-1.22497686, -1.23910957, -1.23615365, -1.2274746 ],\n       ...,\n       [ 0.12350083,  0.13659463,  0.12170369,  0.13322703],\n       [ 0.07554967,  0.1012741 ,  0.0880084 ,  0.08329087],\n       [ 1.3667199 ,  1.33449876,  1.33413949,  1.38612798]])"
     },
     "metadata": {},
     "execution_count": 10
    }
   ],
   "source": [
    "train_inputs"
   ]
  },
  {
   "cell_type": "code",
   "execution_count": 11,
   "metadata": {},
   "outputs": [
    {
     "output_type": "stream",
     "name": "stdout",
     "text": "Train on 4044 samples, validate on 505 samples\nEpoch 1/50\n4044/4044 - 1s - loss: 0.6783 - accuracy: 0.6098 - val_loss: 0.6346 - val_accuracy: 0.6693\nEpoch 2/50\n4044/4044 - 0s - loss: 0.6331 - accuracy: 0.6664 - val_loss: 0.6285 - val_accuracy: 0.6693\nEpoch 3/50\n4044/4044 - 0s - loss: 0.6291 - accuracy: 0.6682 - val_loss: 0.6263 - val_accuracy: 0.6673\nEpoch 4/50\n4044/4044 - 0s - loss: 0.6270 - accuracy: 0.6696 - val_loss: 0.6248 - val_accuracy: 0.6713\nEpoch 5/50\n4044/4044 - 0s - loss: 0.6269 - accuracy: 0.6686 - val_loss: 0.6248 - val_accuracy: 0.6693\nEpoch 6/50\n4044/4044 - 0s - loss: 0.6262 - accuracy: 0.6674 - val_loss: 0.6250 - val_accuracy: 0.6693\nEpoch 7/50\n4044/4044 - 0s - loss: 0.6265 - accuracy: 0.6644 - val_loss: 0.6247 - val_accuracy: 0.6614\nEpoch 8/50\n4044/4044 - 0s - loss: 0.6259 - accuracy: 0.6667 - val_loss: 0.6246 - val_accuracy: 0.6673\nEpoch 9/50\n4044/4044 - 0s - loss: 0.6255 - accuracy: 0.6686 - val_loss: 0.6241 - val_accuracy: 0.6673\nEpoch 10/50\n4044/4044 - 0s - loss: 0.6260 - accuracy: 0.6652 - val_loss: 0.6250 - val_accuracy: 0.6693\nEpoch 11/50\n4044/4044 - 0s - loss: 0.6252 - accuracy: 0.6662 - val_loss: 0.6237 - val_accuracy: 0.6772\nEpoch 12/50\n4044/4044 - 0s - loss: 0.6250 - accuracy: 0.6657 - val_loss: 0.6239 - val_accuracy: 0.6772\nEpoch 13/50\n4044/4044 - 0s - loss: 0.6256 - accuracy: 0.6615 - val_loss: 0.6239 - val_accuracy: 0.6733\nEpoch 14/50\n4044/4044 - 0s - loss: 0.6257 - accuracy: 0.6632 - val_loss: 0.6244 - val_accuracy: 0.6653\nEpoch 15/50\n4044/4044 - 0s - loss: 0.6250 - accuracy: 0.6639 - val_loss: 0.6237 - val_accuracy: 0.6752\nEpoch 16/50\n4044/4044 - 0s - loss: 0.6250 - accuracy: 0.6667 - val_loss: 0.6241 - val_accuracy: 0.6693\nEpoch 17/50\n4044/4044 - 0s - loss: 0.6254 - accuracy: 0.6649 - val_loss: 0.6234 - val_accuracy: 0.6772\nEpoch 18/50\n4044/4044 - 0s - loss: 0.6248 - accuracy: 0.6664 - val_loss: 0.6238 - val_accuracy: 0.6733\nEpoch 19/50\n4044/4044 - 0s - loss: 0.6258 - accuracy: 0.6669 - val_loss: 0.6234 - val_accuracy: 0.6752\nEpoch 20/50\n4044/4044 - 0s - loss: 0.6252 - accuracy: 0.6649 - val_loss: 0.6233 - val_accuracy: 0.6713\nEpoch 21/50\n4044/4044 - 0s - loss: 0.6253 - accuracy: 0.6649 - val_loss: 0.6234 - val_accuracy: 0.6713\nEpoch 22/50\n4044/4044 - 0s - loss: 0.6250 - accuracy: 0.6686 - val_loss: 0.6238 - val_accuracy: 0.6634\nEpoch 23/50\n4044/4044 - 0s - loss: 0.6256 - accuracy: 0.6649 - val_loss: 0.6233 - val_accuracy: 0.6752\nEpoch 24/50\n4044/4044 - 0s - loss: 0.6250 - accuracy: 0.6627 - val_loss: 0.6237 - val_accuracy: 0.6693\nEpoch 25/50\n4044/4044 - 0s - loss: 0.6259 - accuracy: 0.6672 - val_loss: 0.6234 - val_accuracy: 0.6752\nEpoch 26/50\n4044/4044 - 0s - loss: 0.6252 - accuracy: 0.6657 - val_loss: 0.6240 - val_accuracy: 0.6713\nEpoch 27/50\n4044/4044 - 0s - loss: 0.6252 - accuracy: 0.6686 - val_loss: 0.6241 - val_accuracy: 0.6693\nEpoch 28/50\n4044/4044 - 0s - loss: 0.6260 - accuracy: 0.6644 - val_loss: 0.6237 - val_accuracy: 0.6752\nEpoch 29/50\n4044/4044 - 0s - loss: 0.6247 - accuracy: 0.6674 - val_loss: 0.6236 - val_accuracy: 0.6693\nEpoch 30/50\n4044/4044 - 0s - loss: 0.6249 - accuracy: 0.6672 - val_loss: 0.6233 - val_accuracy: 0.6693\nEpoch 31/50\n4044/4044 - 0s - loss: 0.6250 - accuracy: 0.6659 - val_loss: 0.6257 - val_accuracy: 0.6653\nEpoch 32/50\n4044/4044 - 0s - loss: 0.6249 - accuracy: 0.6682 - val_loss: 0.6233 - val_accuracy: 0.6752\nEpoch 33/50\n4044/4044 - 0s - loss: 0.6249 - accuracy: 0.6672 - val_loss: 0.6249 - val_accuracy: 0.6693\nEpoch 34/50\n4044/4044 - 0s - loss: 0.6248 - accuracy: 0.6684 - val_loss: 0.6237 - val_accuracy: 0.6693\nEpoch 35/50\n4044/4044 - 0s - loss: 0.6256 - accuracy: 0.6667 - val_loss: 0.6231 - val_accuracy: 0.6713\nEpoch 36/50\n4044/4044 - 0s - loss: 0.6245 - accuracy: 0.6677 - val_loss: 0.6243 - val_accuracy: 0.6752\nEpoch 37/50\n4044/4044 - 0s - loss: 0.6253 - accuracy: 0.6682 - val_loss: 0.6232 - val_accuracy: 0.6752\nEpoch 38/50\n4044/4044 - 0s - loss: 0.6246 - accuracy: 0.6694 - val_loss: 0.6233 - val_accuracy: 0.6752\nEpoch 39/50\n4044/4044 - 0s - loss: 0.6243 - accuracy: 0.6691 - val_loss: 0.6236 - val_accuracy: 0.6693\nEpoch 40/50\n4044/4044 - 0s - loss: 0.6255 - accuracy: 0.6669 - val_loss: 0.6247 - val_accuracy: 0.6673\nEpoch 41/50\n4044/4044 - 0s - loss: 0.6265 - accuracy: 0.6728 - val_loss: 0.6278 - val_accuracy: 0.6713\nEpoch 42/50\n4044/4044 - 0s - loss: 0.6268 - accuracy: 0.6647 - val_loss: 0.6233 - val_accuracy: 0.6733\nEpoch 43/50\n4044/4044 - 0s - loss: 0.6247 - accuracy: 0.6652 - val_loss: 0.6238 - val_accuracy: 0.6653\nEpoch 44/50\n4044/4044 - 0s - loss: 0.6251 - accuracy: 0.6677 - val_loss: 0.6235 - val_accuracy: 0.6673\nEpoch 45/50\n4044/4044 - 0s - loss: 0.6248 - accuracy: 0.6667 - val_loss: 0.6232 - val_accuracy: 0.6733\nEpoch 46/50\n4044/4044 - 0s - loss: 0.6246 - accuracy: 0.6701 - val_loss: 0.6232 - val_accuracy: 0.6733\nEpoch 47/50\n4044/4044 - 0s - loss: 0.6243 - accuracy: 0.6649 - val_loss: 0.6242 - val_accuracy: 0.6733\nEpoch 48/50\n4044/4044 - 0s - loss: 0.6246 - accuracy: 0.6647 - val_loss: 0.6235 - val_accuracy: 0.6653\nEpoch 49/50\n4044/4044 - 0s - loss: 0.6242 - accuracy: 0.6716 - val_loss: 0.6237 - val_accuracy: 0.6713\nEpoch 50/50\n4044/4044 - 0s - loss: 0.6246 - accuracy: 0.6657 - val_loss: 0.6231 - val_accuracy: 0.6693\n"
    },
    {
     "output_type": "execute_result",
     "data": {
      "text/plain": "<tensorflow.python.keras.callbacks.History at 0x2a25a677ec8>"
     },
     "metadata": {},
     "execution_count": 11
    }
   ],
   "source": [
    "input_size = 5\n",
    "output_size = 2\n",
    "\n",
    "hidden_layer_size = 100\n",
    "\n",
    "model = tf.keras.Sequential([\n",
    "    tf.keras.layers.Dense(hidden_layer_size, activation='relu'), \n",
    "    tf.keras.layers.Dense(output_size, activation='softmax') \n",
    "])\n",
    "\n",
    "model.compile(optimizer='adam', loss='sparse_categorical_crossentropy', metrics=['accuracy'])\n",
    "\n",
    "batch_size = 100\n",
    "\n",
    "epochs = 50\n",
    "\n",
    "model.fit(train_inputs,\n",
    "          trn_targets,\n",
    "          batch_size=batch_size, \n",
    "          epochs=epochs,\n",
    "          validation_data=(val_inputs, val_targets),\n",
    "          verbose = 2 \n",
    "          )  "
   ]
  },
  {
   "cell_type": "code",
   "execution_count": 12,
   "metadata": {},
   "outputs": [
    {
     "output_type": "stream",
     "name": "stdout",
     "text": "506/506 [==============================] - 0s 71us/sample - loss: 0.6067 - accuracy: 0.6937\n"
    }
   ],
   "source": [
    "test_loss, test_accuracy = model.evaluate(tst_inputs, tst_targets)"
   ]
  },
  {
   "cell_type": "code",
   "execution_count": null,
   "metadata": {},
   "outputs": [],
   "source": []
  }
 ],
 "metadata": {
  "language_info": {
   "codemirror_mode": {
    "name": "ipython",
    "version": 3
   },
   "file_extension": ".py",
   "mimetype": "text/x-python",
   "name": "python",
   "nbconvert_exporter": "python",
   "pygments_lexer": "ipython3",
   "version": "3.7.7-final"
  },
  "orig_nbformat": 2,
  "kernelspec": {
   "name": "python37764bitpy3tf20conda64b8e859d92746dc9b45e746292447ed",
   "display_name": "Python 3.7.7 64-bit ('py3-TF2.0': conda)"
  }
 },
 "nbformat": 4,
 "nbformat_minor": 2
}